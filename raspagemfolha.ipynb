{
 "cells": [
  {
   "cell_type": "code",
   "execution_count": 10,
   "id": "af48f2ab",
   "metadata": {},
   "outputs": [],
   "source": [
    "import requests\n",
    "from bs4 import BeautifulSoup as bs\n",
    "import pandas as pd\n",
    "import re\n",
    "from math import ceil\n",
    "import time\n",
    "from datetime import datetime"
   ]
  },
  {
   "cell_type": "code",
   "execution_count": 11,
   "id": "d61632b4",
   "metadata": {},
   "outputs": [],
   "source": [
    "base_url = \"#url\""
   ]
  },
  {
   "cell_type": "code",
   "execution_count": 12,
   "id": "f67a58d1",
   "metadata": {},
   "outputs": [],
   "source": [
    "url = base_url.format(1)"
   ]
  },
  {
   "cell_type": "code",
   "execution_count": 13,
   "id": "d70b6bdf",
   "metadata": {},
   "outputs": [],
   "source": [
    "requisicao = requests.get(url,timeout = 10)\n",
    "requisicao_bs = bs(requisicao.content)"
   ]
  },
  {
   "cell_type": "code",
   "execution_count": 14,
   "id": "b6acaaa9",
   "metadata": {},
   "outputs": [
    {
     "data": {
      "text/plain": [
       "'536 Resultados paraalimentação escolar'"
      ]
     },
     "execution_count": 14,
     "metadata": {},
     "output_type": "execute_result"
    }
   ],
   "source": [
    "numero = requisicao_bs.find(\"div\", class_=\"col col--1-1 col--md-1-2 col--lg-1-2 c-search__result\").get_text(strip=True)\n",
    "numero"
   ]
  },
  {
   "cell_type": "code",
   "execution_count": 15,
   "id": "f0629a84",
   "metadata": {
    "scrolled": true
   },
   "outputs": [],
   "source": [
    "numero_regex = re.compile(r'\\d+')\n",
    "numpags1 = numero_regex.search(numero)\n",
    "numpags2 = numpags1.group()\n",
    "numpags3 = ceil(int(numpags2)/25)"
   ]
  },
  {
   "cell_type": "code",
   "execution_count": 16,
   "id": "07685f16",
   "metadata": {
    "scrolled": true
   },
   "outputs": [
    {
     "name": "stdout",
     "output_type": "stream",
     "text": [
      "1\n",
      "26\n",
      "51\n",
      "76\n",
      "101\n",
      "126\n",
      "151\n",
      "176\n",
      "201\n",
      "226\n",
      "251\n",
      "276\n",
      "301\n",
      "326\n",
      "351\n",
      "376\n",
      "401\n",
      "426\n",
      "451\n",
      "476\n",
      "501\n",
      "526\n"
     ]
    }
   ],
   "source": [
    "infos = []\n",
    "\n",
    "for pagina in range(numpags3):\n",
    "    start = 1 + pagina * 25\n",
    "    url = base_url.format(start)\n",
    "    \n",
    "    print(str(start))\n",
    "    \n",
    "    requisicao = requests.get(url,timeout = 10)\n",
    "    requisicao_bs = bs(requisicao.content)\n",
    "    resultados = requisicao_bs.find(\"ol\").find_all(\"li\")\n",
    "    \n",
    "\n",
    "    for noticia in resultados:\n",
    "        link = noticia.find(\"a\").get(\"href\")\n",
    "        titulo = noticia.find(\"h2\").get_text(strip=True)\n",
    "        resumo = noticia.find(\"p\").get_text(strip=True)\n",
    "        data = noticia.find(\"time\").get(\"datetime\")\n",
    "\n",
    "        infos.append([link, titulo, resumo, data])\n",
    "        \n",
    "    time.sleep(2)"
   ]
  },
  {
   "cell_type": "code",
   "execution_count": 17,
   "id": "e18c848b",
   "metadata": {
    "scrolled": false
   },
   "outputs": [],
   "source": [
    "df = pd.DataFrame(infos, columns=[\"link\", \"titulo\", \"trecho\", \"data\"])\n"
   ]
  },
  {
   "cell_type": "code",
   "execution_count": 18,
   "id": "3ece39e4",
   "metadata": {},
   "outputs": [],
   "source": [
    "agora = datetime.now().strftime(\"%Y%m%d%H%M%S\")\n",
    "df.to_excel(\"#nomedoarquivo-\"+agora+\".xlsx\")"
   ]
  },
  {
   "cell_type": "code",
   "execution_count": null,
   "id": "6b5915b4",
   "metadata": {},
   "outputs": [],
   "source": []
  }
 ],
 "metadata": {
  "kernelspec": {
   "display_name": "Python 3 (ipykernel)",
   "language": "python",
   "name": "python3"
  },
  "language_info": {
   "codemirror_mode": {
    "name": "ipython",
    "version": 3
   },
   "file_extension": ".py",
   "mimetype": "text/x-python",
   "name": "python",
   "nbconvert_exporter": "python",
   "pygments_lexer": "ipython3",
   "version": "3.9.12"
  }
 },
 "nbformat": 4,
 "nbformat_minor": 5
}
